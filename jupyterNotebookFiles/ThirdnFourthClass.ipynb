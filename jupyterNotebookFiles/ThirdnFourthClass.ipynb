{
 "cells": [
  {
   "cell_type": "code",
   "execution_count": 1,
   "id": "642462ab",
   "metadata": {},
   "outputs": [],
   "source": [
    "#Thirdnfourth class\n",
    "class Tnf:\n",
    "\n",
    "    #Constructor with only goals and penalties for inputing just the last match\n",
    "    def __init__(self, c1goals=0, c2goals=0, c1penals=0, c2penals=0,sfinalslss=[0]*2):\n",
    "        self.c1goals = c1goals\n",
    "        self.c2goals = c2goals\n",
    "        self.c1penals = c1penals\n",
    "        self.c2penals = c2penals\n",
    "        self.sfinalslss = [sfinalslss[0],sfinalslss[1]]\n",
    "        \n",
    "#Functions for printing the results of the last match\n",
    "    def tnfround1result(self):\n",
    "        print(\"Third place play-off=\")\n",
    "        print()\n",
    "        \n",
    "        if self.c1goals==self.c2goals:\n",
    "            print(self.sfinalslss[0],self.c1goals,\"(\"+str(self.c1penals)+\")\")\n",
    "            print(self.sfinalslss[1],self.c2goals,\"(\"+str(self.c2penals)+\")\")\n",
    "            print()\n",
    "            \n",
    "            if self.c1penals==self.c2penals:\n",
    "                print(\"Invalid result, please restart\")  \n",
    "            elif self.c1penals>self.c2penals:\n",
    "                print(\"Third:\",self.sfinalslss[0])\n",
    "                print(\"Fourth:\",self.sfinalslss[1])\n",
    "            else:\n",
    "                print(\"Third:\",self.sfinalslss[1])\n",
    "                print(\"Fourth:\",self.sfinalslss[0])\n",
    "            \n",
    "             \n",
    "        elif self.c1goals!=self.c2goals:\n",
    "            print(self.sfinalslss[0],self.c1goals)\n",
    "            print(self.sfinalslss[1],self.c2goals)\n",
    "            print()\n",
    "            \n",
    "            if self.c1goals>self.c2goals:\n",
    "                print(\"Third:\",self.sfinalslss[0])\n",
    "                print(\"Fourth:\",self.sfinalslss[1])\n",
    "            else:\n",
    "                print(\"Third:\",self.sfinalslss[1])\n",
    "                print(\"Fourth:\",self.sfinalslss[0])\n",
    "\n"
   ]
  },
  {
   "cell_type": "code",
   "execution_count": 2,
   "id": "fbed15fb",
   "metadata": {},
   "outputs": [],
   "source": [
    "def insertScoresThirdnFourthRound(sloserpass):#List for inserting sfinals losers \n",
    "    Sfinalslist=[sloserpass[0],sloserpass[1]]\n",
    "\n",
    "    #General input instructions\n",
    "    goals_= \" FT goals (integers only):\"\n",
    "    penals_= \" penals (integers only; if there are no penals enter 0):\"\n",
    "    #List of objects of Final\n",
    "    print(Sfinalslist[0]+\" vs \"+Sfinalslist[1])\n",
    "\n",
    "    tnfmatch=Tnf(int(input(Sfinalslist[0]+goals_)),\n",
    "                 int(input(Sfinalslist[1]+goals_)),\n",
    "                 int(input(Sfinalslist[0]+penals_)),\n",
    "                 int(input(Sfinalslist[1]+penals_)),\n",
    "                Sfinalslist)\n",
    "    #Printing the objects and results of Final\n",
    "    tnfmatch.tnfround1result()"
   ]
  }
 ],
 "metadata": {
  "kernelspec": {
   "display_name": "Python 3 (ipykernel)",
   "language": "python",
   "name": "python3"
  },
  "language_info": {
   "codemirror_mode": {
    "name": "ipython",
    "version": 3
   },
   "file_extension": ".py",
   "mimetype": "text/x-python",
   "name": "python",
   "nbconvert_exporter": "python",
   "pygments_lexer": "ipython3",
   "version": "3.10.8"
  }
 },
 "nbformat": 4,
 "nbformat_minor": 5
}
