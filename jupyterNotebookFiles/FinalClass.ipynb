{
 "cells": [
  {
   "cell_type": "code",
   "execution_count": 1,
   "id": "8f12f01f",
   "metadata": {},
   "outputs": [],
   "source": [
    "#Final class\n",
    "class Final:\n",
    "\n",
    "    #Constructor with only goals and penalties for inputing just the last match\n",
    "    def __init__(self, c1goals=0, c2goals=0, c1penals=0, c2penals=0,sfinalswss=[0]*2):\n",
    "        self.c1goals = c1goals\n",
    "        self.c2goals = c2goals\n",
    "        self.c1penals = c1penals\n",
    "        self.c2penals = c2penals\n",
    "        self.sfinalswss = [sfinalswss[0],sfinalswss[1]]\n",
    "        \n",
    "#Functions for printing the results of the last match\n",
    "    def fround1result(self):\n",
    "        print(\"Grand Final=\")\n",
    "        print()\n",
    "        \n",
    "        if self.c1goals==self.c2goals:\n",
    "            print(self.sfinalswss[0],self.c1goals,\"(\"+str(self.c1penals)+\")\")\n",
    "            print(self.sfinalswss[1],self.c2goals,\"(\"+str(self.c2penals)+\")\")\n",
    "            print()\n",
    "            \n",
    "            if self.c1penals==self.c2penals:\n",
    "                print(\"Invalid result, please restart\")  \n",
    "            elif self.c1penals>self.c2penals:\n",
    "                print(\"CHAMPION:\",self.sfinalswss[0])\n",
    "                print(\"Sub-champion:\",self.sfinalswss[1])\n",
    "            else:\n",
    "                print(\"CHAMPION:\",self.sfinalswss[1])\n",
    "                print(\"Sub-champion:\",self.sfinalswss[0])\n",
    "            \n",
    "             \n",
    "        elif self.c1goals!=self.c2goals:\n",
    "            print(self.sfinalswss[0],self.c1goals)\n",
    "            print(self.sfinalswss[1],self.c2goals)\n",
    "            print()\n",
    "            \n",
    "            if self.c1goals>self.c2goals:\n",
    "                print(\"CHAMPION:\",self.sfinalswss[0])\n",
    "                print(\"Sub-champion:\",self.sfinalswss[1])\n",
    "            else:\n",
    "                print(\"CHAMPION:\",self.sfinalswss[1])\n",
    "                print(\"Sub-champion:\",self.sfinalswss[0])"
   ]
  },
  {
   "cell_type": "code",
   "execution_count": 2,
   "id": "39c35d84",
   "metadata": {},
   "outputs": [],
   "source": [
    "def insertScoresFinalRound(swinnerpass):\n",
    "\n",
    "    #List for inserting sfinals winners                 \n",
    "    Sfinalslist2=[swinnerpass[0],swinnerpass[1]]\n",
    "\n",
    "    #General input instructions\n",
    "    goals_= \" FT goals (integers only):\"\n",
    "    penals_= \" penals (integers only; if there are no penals enter 0):\"\n",
    "\n",
    "    #List of objects of Final\n",
    "    print(Sfinalslist2[0]+\" vs \"+Sfinalslist2[1])\n",
    "\n",
    "    finalmatch=Final(int(input(Sfinalslist2[0]+goals_)),\n",
    "                      int(input(Sfinalslist2[1]+goals_)),\n",
    "                      int(input(Sfinalslist2[0]+penals_)),\n",
    "                      int(input(Sfinalslist2[1]+penals_)),\n",
    "                    Sfinalslist2)\n",
    "    #Printing the objects and results of Final\n",
    "    finalmatch.fround1result()\n",
    "    "
   ]
  }
 ],
 "metadata": {
  "kernelspec": {
   "display_name": "Python 3 (ipykernel)",
   "language": "python",
   "name": "python3"
  },
  "language_info": {
   "codemirror_mode": {
    "name": "ipython",
    "version": 3
   },
   "file_extension": ".py",
   "mimetype": "text/x-python",
   "name": "python",
   "nbconvert_exporter": "python",
   "pygments_lexer": "ipython3",
   "version": "3.10.8"
  }
 },
 "nbformat": 4,
 "nbformat_minor": 5
}
