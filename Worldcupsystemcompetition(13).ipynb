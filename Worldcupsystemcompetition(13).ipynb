{
 "cells": [
  {
   "cell_type": "code",
   "execution_count": null,
   "id": "2c9dbec8",
   "metadata": {},
   "outputs": [],
   "source": [
    "#World_cup_system_competition\n",
    "#Team number: 13\n",
    "\n",
    "#Developed by:\n",
    "#Sebastian Russo\n",
    "#Javier Peres\n",
    "\n",
    "#Supported by:\n",
    "#Ansa Anto\n",
    "#Michelle Nhunge\n",
    "#Donya Hobbedarvish"
   ]
  },
  {
   "cell_type": "code",
   "execution_count": null,
   "id": "4dbb6a5e",
   "metadata": {},
   "outputs": [],
   "source": [
    "#Libraries and classes to import \n",
    "from team_class import *\n",
    "from group_stage_class import *\n",
    "from round_16_class import *\n",
    "from quarter_final_class import * \n",
    "from semi_final_class import * \n",
    "from third_n_fourth_class import *\n",
    "from final_round_class import * "
   ]
  },
  {
   "cell_type": "code",
   "execution_count": null,
   "id": "c4aabe1f",
   "metadata": {},
   "outputs": [],
   "source": [
    "#Team\n",
    "print('Welcome to World Cup 2022')\n",
    "print('Do you want to use the data from 2022 or add manually new teams?')\n",
    "option = 'x'\n",
    "while option != 'o' or option != 'a' or option != 'r' :\n",
    "    option = input('Use old Data (o) / Add Manually(a) / randomScores(r):  ')\n",
    "    if option.lower() == 'o':\n",
    "        \n",
    "        team_list = pull_data('json_data/2022_data.json')\n",
    "        groupStage = GroupStage()\n",
    "        groupStage.load_data(team_list)\n",
    "        break\n",
    "\n",
    "    elif option.lower() == 'a':\n",
    "        groupStage = GroupStage()\n",
    "        groupStage.create_groups('json_data/2022_blank_data.json')\n",
    "        break\n",
    "        \n",
    "    elif option.lower() == 'r':\n",
    "        print('Creating random teams and scores...')\n",
    "        \n",
    "        team_list = pull_data('json_data/2022_create_random_data.json')\n",
    "        groupStage = GroupStage()\n",
    "        #print(team_list)\n",
    "        groupStage.random_Groups(team_list)\n",
    "        groupStage.add_scores(groupStage.get_groups(), 'random')\n",
    "        break\n",
    "        \n",
    "    else:\n",
    "        print('Please choose the right option ')\n"
   ]
  },
  {
   "cell_type": "code",
   "execution_count": null,
   "id": "9795d1cd",
   "metadata": {},
   "outputs": [],
   "source": [
    "#printing the table of the Group Stage, not sorted\n",
    "groupStage.print_group_stage()\n",
    "print()"
   ]
  },
  {
   "cell_type": "code",
   "execution_count": null,
   "id": "0359400d",
   "metadata": {},
   "outputs": [],
   "source": [
    "#Printing the list of winners of group stage; in 1,2,1,2,1,2... format\n",
    "print('Winners of the Group Stage')\n",
    "winnersListgroupStage = groupStage.get_winners_16()\n",
    "print(winnersListgroupStage)\n",
    "print()\n",
    "\n",
    "#printing the table of the Group Stage already sorted\n",
    "groupStage.print_group_stage()"
   ]
  },
  {
   "cell_type": "code",
   "execution_count": null,
   "id": "392b345a",
   "metadata": {},
   "outputs": [],
   "source": [
    "#Round16 \n",
    "round_16 = Round16()\n",
    "winnerslistRound16 = round_16.insert_scores_round_16(winnersListgroupStage)\n",
    "round_16.printRound16(winnerslistRound16[1])\n",
    "\n",
    "#Printing the sorted list of winners to prove it worked\n",
    "print(\"\\n Round 16 Winners=\", winnerslistRound16[0])"
   ]
  },
  {
   "cell_type": "markdown",
   "id": "9bc44d6a",
   "metadata": {},
   "source": [
    "### Quater Finals  "
   ]
  },
  {
   "cell_type": "code",
   "execution_count": null,
   "id": "804c563d",
   "metadata": {},
   "outputs": [],
   "source": [
    "#Quarter finals\n",
    "quarter_final = QuarterFinals()\n",
    "winnerslistQFinal = quarter_final.insert_scores_quarter_final(winnerslistRound16[0])\n",
    "quarter_final.print_quarter_final(winnerslistQFinal[1])\n",
    "\n",
    "#Printing the sorted list of winners to prove it worked\n",
    "print()\n",
    "print(\"Quarter finals winners=\", winnerslistQFinal[0])"
   ]
  },
  {
   "cell_type": "markdown",
   "id": "61fafee2",
   "metadata": {},
   "source": [
    "### Semi Finals"
   ]
  },
  {
   "cell_type": "code",
   "execution_count": null,
   "id": "43084c6b",
   "metadata": {},
   "outputs": [],
   "source": [
    "#Semi finals\n",
    "semi_finals = SemiFinals()\n",
    "\n",
    "winnerslistSFinal = semi_finals.insert_scores_s_final(quarter_final_list=winnerslistQFinal[0])\n",
    "semi_finals.print_semi_final(winnerslistSFinal[2])\n",
    "\n",
    "#Printing the sorted list of winners to prove it worked\n",
    "swinnerpass = winnerslistSFinal[0]\n",
    "sloserpass = winnerslistSFinal[1]\n",
    "#Printing the list of winners to prove it worked\n",
    "print(\" \\n Semi finals winners=\",swinnerpass)\n",
    "#Printing the list of losers to prove it worked\n",
    "print(\"\\n Semi finals losers=\",sloserpass)"
   ]
  },
  {
   "cell_type": "markdown",
   "id": "167e7c28",
   "metadata": {},
   "source": [
    "## ThirdnFourth Place"
   ]
  },
  {
   "cell_type": "code",
   "execution_count": null,
   "id": "f449d2c3",
   "metadata": {},
   "outputs": [],
   "source": [
    "#Third and Fourth\n",
    "third_n_fourth = Third_and_Fourth()\n",
    "third_n_fourth.insert_scores_third_n_fourth_round(sloserpass)"
   ]
  },
  {
   "cell_type": "markdown",
   "id": "64996227",
   "metadata": {},
   "source": [
    "# Final"
   ]
  },
  {
   "cell_type": "code",
   "execution_count": null,
   "id": "d671b9fb",
   "metadata": {},
   "outputs": [],
   "source": [
    "#Final\n",
    "final = FinalRound()  # create an instance\n",
    "final.insert_scores_final_round(s_winners=swinnerpass)"
   ]
  }
 ],
 "metadata": {
  "kernelspec": {
   "display_name": "Python 3",
   "language": "python",
   "name": "python3"
  },
  "language_info": {
   "codemirror_mode": {
    "name": "ipython",
    "version": 3
   },
   "file_extension": ".py",
   "mimetype": "text/x-python",
   "name": "python",
   "nbconvert_exporter": "python",
   "pygments_lexer": "ipython3",
   "version": "3.12.5"
  }
 },
 "nbformat": 4,
 "nbformat_minor": 5
}
