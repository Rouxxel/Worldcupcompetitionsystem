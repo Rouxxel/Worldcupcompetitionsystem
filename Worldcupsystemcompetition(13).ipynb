{
 "cells": [
  {
   "cell_type": "code",
   "execution_count": 1,
   "id": "2c9dbec8",
   "metadata": {},
   "outputs": [],
   "source": [
    "#World_cup_system_competition\n",
    "#Team number: 13\n",
    "\n",
    "#Developed by:\n",
    "#Sebastian Russo\n",
    "#Javier Peres\n",
    "\n",
    "#Supported by:\n",
    "#Ansa Anto\n",
    "#Michelle Nhunge\n",
    "#Donya Hobbedarvish"
   ]
  },
  {
   "cell_type": "code",
   "execution_count": 2,
   "id": "4dbb6a5e",
   "metadata": {},
   "outputs": [],
   "source": [
    "#Libraries and classes to import \n",
    "from TeamClass import *\n",
    "from group_stage_class import *\n",
    "from round_16_class import *\n",
    "from quarter_final_class import * \n",
    "from semi_final_class import * \n",
    "from third_n_fourth_class import *\n",
    "from final_round_class import * "
   ]
  },
  {
   "cell_type": "code",
   "execution_count": 3,
   "id": "c4aabe1f",
   "metadata": {},
   "outputs": [
    {
     "name": "stdout",
     "output_type": "stream",
     "text": [
      "Welcome to World Cup 2022\n",
      "Do you want to use the data from 2022 or add manually new teams?\n"
     ]
    }
   ],
   "source": [
    "#Team\n",
    "print('Welcome to World Cup 2022')\n",
    "print('Do you want to use the data from 2022 or add manually new teams?')\n",
    "option = 'x'\n",
    "while option != 'o' or option != 'a' or option != 'r' :\n",
    "    option = input('Use old Data (o) / Add Manually(a) / randomScores(r):  ')\n",
    "    if option.lower() == 'o':\n",
    "        \n",
    "        team_list = pullData('json_data/2022_data.json')\n",
    "        groupStage = GroupStage()\n",
    "        groupStage.load_data(team_list)\n",
    "        break\n",
    "\n",
    "    elif option.lower() == 'a':\n",
    "        groupStage = GroupStage()\n",
    "        groupStage.createGroups('json_data/2022_blank_data.json')\n",
    "        break\n",
    "        \n",
    "    elif option.lower() == 'r':\n",
    "        print('Creating random teams and scores...')\n",
    "        \n",
    "        team_list = pullData('json_data/2022_create_random_data.json')\n",
    "        groupStage = GroupStage()\n",
    "        #print(team_list)\n",
    "        groupStage.random_Groups(team_list)\n",
    "        groupStage.addScores(groupStage.getGroups(), 'random')\n",
    "        break\n",
    "        \n",
    "    else:\n",
    "        print('Please choose the right option ')\n"
   ]
  },
  {
   "cell_type": "code",
   "execution_count": 4,
   "id": "9795d1cd",
   "metadata": {},
   "outputs": [
    {
     "name": "stdout",
     "output_type": "stream",
     "text": [
      "Group Stage Table \n",
      "\n",
      "\n",
      " GroupA: \n",
      " \n",
      "\t\t MP, W, D, L, GF, GA, GD, Pts \t Last 3\n",
      "Qatar : \t[3, 0, 0, 3, 1, 7, -6, 0] \t ❌ ❌ ❌\n",
      "Senegal : \t[3, 2, 0, 1, 5, 4, 1, 6] \t ✅ ✅ ❌\n",
      "Ecuador : \t[3, 1, 1, 1, 4, 3, 1, 4] \t ❌ ⊝ ✅\n",
      "Netherlands : \t[3, 2, 1, 0, 5, 1, 4, 7] \t ✅ ⊝ ✅\n",
      "\n",
      " GroupB: \n",
      " \n",
      "\t\t MP, W, D, L, GF, GA, GD, Pts \t Last 3\n",
      "England : \t[3, 2, 1, 0, 9, 2, 7, 7] \t ✅ ⊝ ✅\n",
      "Wales : \t[3, 0, 1, 2, 1, 6, -5, 1] \t ❌ ❌ ⊝\n",
      "Iran  : \t[3, 1, 0, 2, 4, 7, -3, 3] \t ❌ ✅ ❌\n",
      "USA   : \t[3, 1, 2, 0, 2, 1, 1, 5] \t ✅ ⊝ ⊝\n",
      "\n",
      " GroupC: \n",
      " \n",
      "\t\t MP, W, D, L, GF, GA, GD, Pts \t Last 3\n",
      "Poland : \t[3, 1, 1, 1, 2, 2, 0, 4] \t ❌ ✅ ⊝\n",
      "Argentina : \t[3, 2, 0, 1, 5, 2, 3, 6] \t ✅ ✅ ❌\n",
      "Mexico : \t[3, 1, 1, 1, 2, 3, -1, 4] \t ✅ ❌ ⊝\n",
      "Saudi arabia : \t[3, 1, 0, 2, 3, 5, -2, 3] \t ❌ ❌ ✅\n",
      "\n",
      " GroupD: \n",
      " \n",
      "\t\t MP, W, D, L, GF, GA, GD, Pts \t Last 3\n",
      "France : \t[3, 2, 0, 1, 6, 3, 3, 6] \t ❌ ✅ ✅\n",
      "Denmark : \t[3, 0, 1, 2, 1, 3, -2, 1] \t ❌ ❌ ⊝\n",
      "Tunisia : \t[3, 1, 1, 1, 1, 1, 0, 4] \t ✅ ❌ ⊝\n",
      "Australia : \t[3, 2, 0, 1, 3, 4, -1, 6] \t ✅ ✅ ❌\n",
      "\n",
      " GroupE: \n",
      " \n",
      "\t\t MP, W, D, L, GF, GA, GD, Pts \t Last 3\n",
      "Japan : \t[3, 2, 0, 1, 4, 3, 1, 6] \t ✅ ❌ ✅\n",
      "Spain : \t[3, 1, 1, 1, 9, 3, 6, 4] \t ❌ ⊝ ✅\n",
      "Costa rica : \t[3, 1, 0, 2, 3, 11, -8, 3] \t ❌ ✅ ❌\n",
      "Germany : \t[3, 1, 1, 1, 6, 5, 1, 4] \t ✅ ⊝ ❌\n",
      "\n",
      " GroupF: \n",
      " \n",
      "\t\t MP, W, D, L, GF, GA, GD, Pts \t Last 3\n",
      "Canada : \t[3, 0, 0, 3, 2, 7, -5, 0] \t ❌ ❌ ❌\n",
      "Croatia : \t[3, 1, 2, 0, 4, 1, 3, 5] \t ⊝ ✅ ⊝\n",
      "Belgium : \t[3, 1, 1, 1, 1, 2, -1, 4] \t ⊝ ❌ ✅\n",
      "Morocco : \t[3, 2, 1, 0, 4, 1, 3, 7] \t ✅ ✅ ⊝\n",
      "\n",
      " GroupG: \n",
      " \n",
      "\t\t MP, W, D, L, GF, GA, GD, Pts \t Last 3\n",
      "Serbia : \t[3, 0, 1, 2, 5, 8, -3, 1] \t ❌ ⊝ ❌\n",
      "Switzerland : \t[3, 2, 0, 1, 4, 3, 1, 6] \t ✅ ❌ ✅\n",
      "Cameroon : \t[3, 1, 1, 1, 4, 4, 0, 4] \t ✅ ⊝ ❌\n",
      "Brazil : \t[3, 2, 0, 1, 3, 1, 2, 6] \t ❌ ✅ ✅\n",
      "\n",
      " GroupH: \n",
      " \n",
      "\t\t MP, W, D, L, GF, GA, GD, Pts \t Last 3\n",
      "Ghana : \t[3, 1, 0, 2, 5, 7, -2, 3] \t ❌ ✅ ❌\n",
      "Uruguay : \t[3, 1, 1, 1, 2, 2, 0, 4] \t ✅ ❌ ⊝\n",
      "South korea : \t[3, 1, 1, 1, 4, 4, 0, 4] \t ✅ ❌ ⊝\n",
      "Portugal : \t[3, 2, 0, 1, 6, 4, 2, 6] \t ❌ ✅ ✅\n",
      "\n"
     ]
    }
   ],
   "source": [
    "#printing the table of the Group Stage, not sorted\n",
    "groupStage.print_group_stage()\n",
    "print()"
   ]
  },
  {
   "cell_type": "code",
   "execution_count": 5,
   "id": "0359400d",
   "metadata": {},
   "outputs": [
    {
     "name": "stdout",
     "output_type": "stream",
     "text": [
      "Winners of the Group Stage\n",
      "['Netherlands', 'Senegal', 'England', 'USA  ', 'Argentina', 'Poland', 'France', 'Australia', 'Japan', 'Spain', 'Morocco', 'Croatia', 'Brazil', 'Switzerland', 'Portugal', 'South korea']\n",
      "\n",
      "Group Stage Table \n",
      "\n",
      "\n",
      " GroupA: \n",
      " \n",
      "\t\t MP, W, D, L, GF, GA, GD, Pts \t Last 3\n",
      "Netherlands : \t[3, 2, 1, 0, 5, 1, 4, 7] \t ✅ ⊝ ✅\n",
      "Senegal : \t[3, 2, 0, 1, 5, 4, 1, 6] \t ✅ ✅ ❌\n",
      "Ecuador : \t[3, 1, 1, 1, 4, 3, 1, 4] \t ❌ ⊝ ✅\n",
      "Qatar : \t[3, 0, 0, 3, 1, 7, -6, 0] \t ❌ ❌ ❌\n",
      "\n",
      " GroupB: \n",
      " \n",
      "\t\t MP, W, D, L, GF, GA, GD, Pts \t Last 3\n",
      "England : \t[3, 2, 1, 0, 9, 2, 7, 7] \t ✅ ⊝ ✅\n",
      "USA   : \t[3, 1, 2, 0, 2, 1, 1, 5] \t ✅ ⊝ ⊝\n",
      "Iran  : \t[3, 1, 0, 2, 4, 7, -3, 3] \t ❌ ✅ ❌\n",
      "Wales : \t[3, 0, 1, 2, 1, 6, -5, 1] \t ❌ ❌ ⊝\n",
      "\n",
      " GroupC: \n",
      " \n",
      "\t\t MP, W, D, L, GF, GA, GD, Pts \t Last 3\n",
      "Argentina : \t[3, 2, 0, 1, 5, 2, 3, 6] \t ✅ ✅ ❌\n",
      "Poland : \t[3, 1, 1, 1, 2, 2, 0, 4] \t ❌ ✅ ⊝\n",
      "Mexico : \t[3, 1, 1, 1, 2, 3, -1, 4] \t ✅ ❌ ⊝\n",
      "Saudi arabia : \t[3, 1, 0, 2, 3, 5, -2, 3] \t ❌ ❌ ✅\n",
      "\n",
      " GroupD: \n",
      " \n",
      "\t\t MP, W, D, L, GF, GA, GD, Pts \t Last 3\n",
      "France : \t[3, 2, 0, 1, 6, 3, 3, 6] \t ❌ ✅ ✅\n",
      "Australia : \t[3, 2, 0, 1, 3, 4, -1, 6] \t ✅ ✅ ❌\n",
      "Tunisia : \t[3, 1, 1, 1, 1, 1, 0, 4] \t ✅ ❌ ⊝\n",
      "Denmark : \t[3, 0, 1, 2, 1, 3, -2, 1] \t ❌ ❌ ⊝\n",
      "\n",
      " GroupE: \n",
      " \n",
      "\t\t MP, W, D, L, GF, GA, GD, Pts \t Last 3\n",
      "Japan : \t[3, 2, 0, 1, 4, 3, 1, 6] \t ✅ ❌ ✅\n",
      "Spain : \t[3, 1, 1, 1, 9, 3, 6, 4] \t ❌ ⊝ ✅\n",
      "Germany : \t[3, 1, 1, 1, 6, 5, 1, 4] \t ✅ ⊝ ❌\n",
      "Costa rica : \t[3, 1, 0, 2, 3, 11, -8, 3] \t ❌ ✅ ❌\n",
      "\n",
      " GroupF: \n",
      " \n",
      "\t\t MP, W, D, L, GF, GA, GD, Pts \t Last 3\n",
      "Morocco : \t[3, 2, 1, 0, 4, 1, 3, 7] \t ✅ ✅ ⊝\n",
      "Croatia : \t[3, 1, 2, 0, 4, 1, 3, 5] \t ⊝ ✅ ⊝\n",
      "Belgium : \t[3, 1, 1, 1, 1, 2, -1, 4] \t ⊝ ❌ ✅\n",
      "Canada : \t[3, 0, 0, 3, 2, 7, -5, 0] \t ❌ ❌ ❌\n",
      "\n",
      " GroupG: \n",
      " \n",
      "\t\t MP, W, D, L, GF, GA, GD, Pts \t Last 3\n",
      "Brazil : \t[3, 2, 0, 1, 3, 1, 2, 6] \t ❌ ✅ ✅\n",
      "Switzerland : \t[3, 2, 0, 1, 4, 3, 1, 6] \t ✅ ❌ ✅\n",
      "Cameroon : \t[3, 1, 1, 1, 4, 4, 0, 4] \t ✅ ⊝ ❌\n",
      "Serbia : \t[3, 0, 1, 2, 5, 8, -3, 1] \t ❌ ⊝ ❌\n",
      "\n",
      " GroupH: \n",
      " \n",
      "\t\t MP, W, D, L, GF, GA, GD, Pts \t Last 3\n",
      "Portugal : \t[3, 2, 0, 1, 6, 4, 2, 6] \t ❌ ✅ ✅\n",
      "South korea : \t[3, 1, 1, 1, 4, 4, 0, 4] \t ✅ ❌ ⊝\n",
      "Uruguay : \t[3, 1, 1, 1, 2, 2, 0, 4] \t ✅ ❌ ⊝\n",
      "Ghana : \t[3, 1, 0, 2, 5, 7, -2, 3] \t ❌ ✅ ❌\n"
     ]
    }
   ],
   "source": [
    "#Printing the list of winners of group stage; in 1,2,1,2,1,2... format\n",
    "print('Winners of the Group Stage')\n",
    "winnersListgroupStage = groupStage.get_winners_16()\n",
    "print(winnersListgroupStage)\n",
    "print()\n",
    "\n",
    "#printing the table of the Group Stage already sorted\n",
    "groupStage.print_group_stage()"
   ]
  },
  {
   "cell_type": "code",
   "execution_count": 6,
   "id": "392b345a",
   "metadata": {},
   "outputs": [
    {
     "name": "stdout",
     "output_type": "stream",
     "text": [
      "Netherlands vs USA  \n",
      "\n",
      "Argentina vs Australia\n",
      "\n",
      "Japan vs Croatia\n",
      "\n",
      "Brazil vs South korea\n"
     ]
    },
    {
     "ename": "ValueError",
     "evalue": "invalid literal for int() with base 10: ''",
     "output_type": "error",
     "traceback": [
      "\u001b[1;31m---------------------------------------------------------------------------\u001b[0m",
      "\u001b[1;31mValueError\u001b[0m                                Traceback (most recent call last)",
      "Cell \u001b[1;32mIn[6], line 3\u001b[0m\n\u001b[0;32m      1\u001b[0m \u001b[38;5;66;03m#Round16 \u001b[39;00m\n\u001b[0;32m      2\u001b[0m round_16 \u001b[38;5;241m=\u001b[39m Round16()\n\u001b[1;32m----> 3\u001b[0m winnerslistRound16 \u001b[38;5;241m=\u001b[39m \u001b[43mround_16\u001b[49m\u001b[38;5;241;43m.\u001b[39;49m\u001b[43minsert_scores_round_16\u001b[49m\u001b[43m(\u001b[49m\u001b[43mwinnersListgroupStage\u001b[49m\u001b[43m)\u001b[49m\n\u001b[0;32m      4\u001b[0m round_16\u001b[38;5;241m.\u001b[39mprintRound16(winnerslistRound16[\u001b[38;5;241m1\u001b[39m])\n\u001b[0;32m      6\u001b[0m \u001b[38;5;66;03m#Printing the sorted list of winners to prove it worked\u001b[39;00m\n",
      "File \u001b[1;32mc:\\Users\\Acer\\Documents\\GitHub\\Worldcupcompetitionsystem\\round_16_class.py:295\u001b[0m, in \u001b[0;36mRound16.insert_scores_round_16\u001b[1;34m(self, groups_list)\u001b[0m\n\u001b[0;32m    292\u001b[0m \u001b[38;5;28mprint\u001b[39m()\n\u001b[0;32m    293\u001b[0m \u001b[38;5;28mprint\u001b[39m(groups_list[\u001b[38;5;241m12\u001b[39m]\u001b[38;5;241m+\u001b[39m\u001b[38;5;124m\"\u001b[39m\u001b[38;5;124m vs \u001b[39m\u001b[38;5;124m\"\u001b[39m\u001b[38;5;241m+\u001b[39mgroups_list[\u001b[38;5;241m15\u001b[39m])\n\u001b[1;32m--> 295\u001b[0m round_16_match_4\u001b[38;5;241m=\u001b[39mRound16(\u001b[38;5;28;43mint\u001b[39;49m\u001b[43m(\u001b[49m\u001b[38;5;28;43minput\u001b[39;49m\u001b[43m(\u001b[49m\u001b[43mgroups_list\u001b[49m\u001b[43m[\u001b[49m\u001b[38;5;241;43m12\u001b[39;49m\u001b[43m]\u001b[49m\u001b[38;5;241;43m+\u001b[39;49m\u001b[43mgoals_\u001b[49m\u001b[43m)\u001b[49m\u001b[43m)\u001b[49m,\n\u001b[0;32m    296\u001b[0m                     \u001b[38;5;28mint\u001b[39m(\u001b[38;5;28minput\u001b[39m(groups_list[\u001b[38;5;241m15\u001b[39m]\u001b[38;5;241m+\u001b[39mgoals_)),\n\u001b[0;32m    297\u001b[0m                     \u001b[38;5;28mint\u001b[39m(\u001b[38;5;28minput\u001b[39m(groups_list[\u001b[38;5;241m12\u001b[39m]\u001b[38;5;241m+\u001b[39mpenalties_)),\n\u001b[0;32m    298\u001b[0m                     \u001b[38;5;28mint\u001b[39m(\u001b[38;5;28minput\u001b[39m(groups_list[\u001b[38;5;241m15\u001b[39m]\u001b[38;5;241m+\u001b[39mpenalties_)),\n\u001b[0;32m    299\u001b[0m                     groups_list)\n\u001b[0;32m    301\u001b[0m \u001b[38;5;28mprint\u001b[39m()\n\u001b[0;32m    302\u001b[0m \u001b[38;5;28mprint\u001b[39m(groups_list[\u001b[38;5;241m1\u001b[39m]\u001b[38;5;241m+\u001b[39m\u001b[38;5;124m\"\u001b[39m\u001b[38;5;124m vs \u001b[39m\u001b[38;5;124m\"\u001b[39m\u001b[38;5;241m+\u001b[39mgroups_list[\u001b[38;5;241m2\u001b[39m])\n",
      "\u001b[1;31mValueError\u001b[0m: invalid literal for int() with base 10: ''"
     ]
    }
   ],
   "source": [
    "#Round16 \n",
    "round_16 = Round16()\n",
    "winnerslistRound16 = round_16.insert_scores_round_16(winnersListgroupStage)\n",
    "round_16.printRound16(winnerslistRound16[1])\n",
    "\n",
    "#Printing the sorted list of winners to prove it worked\n",
    "print(\"\\n Round 16 Winners=\", winnerslistRound16[0])"
   ]
  },
  {
   "cell_type": "markdown",
   "id": "9bc44d6a",
   "metadata": {},
   "source": [
    "### Quater Finals  "
   ]
  },
  {
   "cell_type": "code",
   "execution_count": null,
   "id": "804c563d",
   "metadata": {},
   "outputs": [],
   "source": [
    "#Quarter finals\n",
    "quarter_final = QuarterFinals()\n",
    "winnerslistQFinal = quarter_final.insert_scores_quarter_final(winnerslistRound16[0])\n",
    "quarter_final.print_quarter_final(winnerslistQFinal[1])\n",
    "\n",
    "#Printing the sorted list of winners to prove it worked\n",
    "print()\n",
    "print(\"Quarter finals winners=\", winnerslistQFinal[0])"
   ]
  },
  {
   "cell_type": "markdown",
   "id": "61fafee2",
   "metadata": {},
   "source": [
    "### Semi Finals"
   ]
  },
  {
   "cell_type": "code",
   "execution_count": null,
   "id": "43084c6b",
   "metadata": {},
   "outputs": [],
   "source": [
    "#Semi finals\n",
    "semi_finals = SemiFinals()\n",
    "\n",
    "winnerslistSFinal = semi_finals.insert_scores_s_final(quarter_final_list=winnerslistQFinal[0])\n",
    "semi_finals.print_semi_final(winnerslistSFinal[2])\n",
    "\n",
    "#Printing the sorted list of winners to prove it worked\n",
    "swinnerpass = winnerslistSFinal[0]\n",
    "sloserpass = winnerslistSFinal[1]\n",
    "#Printing the list of winners to prove it worked\n",
    "print(\" \\n Semi finals winners=\",swinnerpass)\n",
    "#Printing the list of losers to prove it worked\n",
    "print(\"\\n Semi finals losers=\",sloserpass)"
   ]
  },
  {
   "cell_type": "markdown",
   "id": "167e7c28",
   "metadata": {},
   "source": [
    "## ThirdnFourth Place"
   ]
  },
  {
   "cell_type": "code",
   "execution_count": null,
   "id": "f449d2c3",
   "metadata": {},
   "outputs": [],
   "source": [
    "#Third and Fourth\n",
    "third_n_fourth = Third_and_Fourth()\n",
    "third_n_fourth.insert_scores_third_n_fourth_round(sloserpass)"
   ]
  },
  {
   "cell_type": "markdown",
   "id": "64996227",
   "metadata": {},
   "source": [
    "# Final"
   ]
  },
  {
   "cell_type": "code",
   "execution_count": null,
   "id": "d671b9fb",
   "metadata": {},
   "outputs": [],
   "source": [
    "#Final\n",
    "final = FinalRound()  # create an instance\n",
    "final.insert_scores_final_round(s_winners=swinnerpass)"
   ]
  }
 ],
 "metadata": {
  "kernelspec": {
   "display_name": "Python 3",
   "language": "python",
   "name": "python3"
  },
  "language_info": {
   "codemirror_mode": {
    "name": "ipython",
    "version": 3
   },
   "file_extension": ".py",
   "mimetype": "text/x-python",
   "name": "python",
   "nbconvert_exporter": "python",
   "pygments_lexer": "ipython3",
   "version": "3.12.5"
  }
 },
 "nbformat": 4,
 "nbformat_minor": 5
}
