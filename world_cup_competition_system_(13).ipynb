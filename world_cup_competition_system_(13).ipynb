{
 "cells": [
  {
   "cell_type": "code",
   "execution_count": null,
   "id": "2c9dbec8",
   "metadata": {},
   "outputs": [],
   "source": [
    "#World_cup_system_competition\n",
    "#Team number: 13\n",
    "\n",
    "#Developed by:\n",
    "#Sebastian Russo\n",
    "#Javier Peres\n",
    "\n",
    "#Supported by:\n",
    "#Ansa Anto\n",
    "#Michelle Nhunge\n",
    "#Donya Hobbedarvish\n",
    "\n",
    "#Libraries and classes to import \n",
    "from classes.team_class import pull_data\n",
    "from classes.group_stage_class import GroupStage\n",
    "from classes.round_16_class import Round16\n",
    "from classes.quarter_final_class import QuarterFinals\n",
    "from classes.semi_final_class import SemiFinals\n",
    "from classes.third_n_fourth_class import Third_and_Fourth\n",
    "from classes.final_round_class import FinalRound"
   ]
  },
  {
   "cell_type": "code",
   "execution_count": null,
   "id": "c4aabe1f",
   "metadata": {},
   "outputs": [],
   "source": [
    "#Team\n",
    "print('Welcome to World Cup 2022')\n",
    "print('Do you want to use the data from 2022 or add manually new teams?')\n",
    "group_stage = GroupStage()\n",
    "option = ''\n",
    "while option != 'o' or option != 'a' or option != 'r' :\n",
    "    option = input('Use old Data (o) / Add Manually(a) / randomScores(r):  ')\n",
    "    if option.lower() == 'o':\n",
    "        print(\"Old data selected\")\n",
    "        team_list = pull_data('json_data/2022_data.json')\n",
    "        group_stage.load_data(team_list)\n",
    "        break\n",
    "\n",
    "    elif option.lower() == 'a':\n",
    "        print(\"Add groups manually selected\")\n",
    "        group_stage.create_groups('json_data/2022_blank_data.json')\n",
    "        break\n",
    "        \n",
    "    elif option.lower() == 'r':\n",
    "        print(\"Random teams and scores selected\")\n",
    "        print('Creating random teams and scores...')\n",
    "        \n",
    "        team_list = pull_data('json_data/2022_create_random_data.json')\n",
    "        group_stage.random_Groups(team_list)\n",
    "        group_stage.add_scores(group_stage.get_groups(), 'random')\n",
    "        break\n",
    "        \n",
    "    else:\n",
    "        print('Please choose a valid option ')\n"
   ]
  },
  {
   "cell_type": "code",
   "execution_count": null,
   "id": "9795d1cd",
   "metadata": {},
   "outputs": [],
   "source": [
    "#printing the table of the Group Stage, not sorted\n",
    "group_stage.print_group_stage()\n",
    "print()"
   ]
  },
  {
   "cell_type": "code",
   "execution_count": null,
   "id": "0359400d",
   "metadata": {},
   "outputs": [],
   "source": [
    "#Printing the list of winners of group stage; in 1,2,1,2,1,2... format\n",
    "print('Winners of the Group Stage')\n",
    "winners_groups_stage = group_stage.get_winners_16()\n",
    "print(winners_groups_stage)\n",
    "print()\n",
    "\n",
    "#printing the table of the Group Stage already sorted\n",
    "group_stage.print_group_stage()"
   ]
  },
  {
   "cell_type": "code",
   "execution_count": null,
   "id": "392b345a",
   "metadata": {},
   "outputs": [],
   "source": [
    "#Round16 \n",
    "round_16 = Round16()\n",
    "winners_round_16 = round_16.insert_scores_round_16(winners_groups_stage)\n",
    "round_16.printRound16(winners_round_16[1])\n",
    "\n",
    "#Printing the sorted list of winners to prove it worked\n",
    "print(\"\\n Round 16 Winners=\", winners_round_16[0])"
   ]
  },
  {
   "cell_type": "markdown",
   "id": "9bc44d6a",
   "metadata": {},
   "source": [
    "### Quater Finals  "
   ]
  },
  {
   "cell_type": "code",
   "execution_count": null,
   "id": "804c563d",
   "metadata": {},
   "outputs": [],
   "source": [
    "#Quarter finals\n",
    "quarter_final = QuarterFinals()\n",
    "winners_quarter_final = quarter_final.insert_scores_quarter_final(winners_round_16[0])\n",
    "quarter_final.print_quarter_final(winners_quarter_final[1])\n",
    "\n",
    "#Printing the sorted list of winners to prove it worked\n",
    "print()\n",
    "print(\"Quarter finals winners=\", winners_quarter_final[0])"
   ]
  },
  {
   "cell_type": "markdown",
   "id": "61fafee2",
   "metadata": {},
   "source": [
    "### Semi Finals"
   ]
  },
  {
   "cell_type": "code",
   "execution_count": null,
   "id": "43084c6b",
   "metadata": {},
   "outputs": [],
   "source": [
    "#Semi finals\n",
    "semi_finals = SemiFinals()\n",
    "\n",
    "winners_semi_finals = semi_finals.insert_scores_s_final(quarter_final_list=winners_quarter_final[0])\n",
    "semi_finals.print_semi_final(winners_semi_finals[2])\n",
    "\n",
    "#Printing the sorted list of winners to prove it worked\n",
    "semi_finals_winners = winners_semi_finals[0]\n",
    "semi_finals_losers = winners_semi_finals[1]\n",
    "#Printing the list of winners to prove it worked\n",
    "print(\" \\n Semi finals winners=\",semi_finals_winners)\n",
    "#Printing the list of losers to prove it worked\n",
    "print(\"\\n Semi finals losers=\",semi_finals_losers)"
   ]
  },
  {
   "cell_type": "markdown",
   "id": "167e7c28",
   "metadata": {},
   "source": [
    "## ThirdnFourth Place"
   ]
  },
  {
   "cell_type": "code",
   "execution_count": null,
   "id": "f449d2c3",
   "metadata": {},
   "outputs": [],
   "source": [
    "#Third and Fourth\n",
    "third_n_fourth = Third_and_Fourth()\n",
    "third_n_fourth.insert_scores_third_n_fourth_round(semi_finals_losers)"
   ]
  },
  {
   "cell_type": "markdown",
   "id": "64996227",
   "metadata": {},
   "source": [
    "# Final"
   ]
  },
  {
   "cell_type": "code",
   "execution_count": null,
   "id": "d671b9fb",
   "metadata": {},
   "outputs": [],
   "source": [
    "#Final\n",
    "final = FinalRound()  # create an instance\n",
    "final.insert_scores_final_round(s_winners=semi_finals_winners)"
   ]
  }
 ],
 "metadata": {
  "kernelspec": {
   "display_name": "Python 3",
   "language": "python",
   "name": "python3"
  },
  "language_info": {
   "codemirror_mode": {
    "name": "ipython",
    "version": 3
   },
   "file_extension": ".py",
   "mimetype": "text/x-python",
   "name": "python",
   "nbconvert_exporter": "python",
   "pygments_lexer": "ipython3",
   "version": "3.12.5"
  }
 },
 "nbformat": 4,
 "nbformat_minor": 5
}
